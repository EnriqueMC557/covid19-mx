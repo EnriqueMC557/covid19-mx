{
  "cells": [
    {
      "cell_type": "code",
      "execution_count": null,
      "metadata": {},
      "outputs": [],
      "source": [
        "# %load_ext tensorboard\n"
      ]
    },
    {
      "cell_type": "code",
      "execution_count": 1,
      "metadata": {
        "colab": {
          "base_uri": "https://localhost:8080/"
        },
        "id": "E8Uwx6IuCw4L",
        "outputId": "9b7f3873-cdc6-4ff6-aaa1-9d6db9753903"
      },
      "outputs": [
        {
          "name": "stderr",
          "output_type": "stream",
          "text": [
            "2023-07-05 16:23:24.703830: I tensorflow/core/platform/cpu_feature_guard.cc:193] This TensorFlow binary is optimized with oneAPI Deep Neural Network Library (oneDNN) to use the following CPU instructions in performance-critical operations:  AVX2 AVX_VNNI FMA\n",
            "To enable them in other operations, rebuild TensorFlow with the appropriate compiler flags.\n",
            "2023-07-05 16:23:24.772920: I tensorflow/core/util/util.cc:169] oneDNN custom operations are on. You may see slightly different numerical results due to floating-point round-off errors from different computation orders. To turn them off, set the environment variable `TF_ENABLE_ONEDNN_OPTS=0`.\n",
            "2023-07-05 16:23:24.790723: E tensorflow/stream_executor/cuda/cuda_blas.cc:2981] Unable to register cuBLAS factory: Attempting to register factory for plugin cuBLAS when one has already been registered\n",
            "2023-07-05 16:23:25.159547: W tensorflow/stream_executor/platform/default/dso_loader.cc:64] Could not load dynamic library 'libnvinfer.so.7'; dlerror: libnvinfer.so.7: cannot open shared object file: No such file or directory\n",
            "2023-07-05 16:23:25.159608: W tensorflow/stream_executor/platform/default/dso_loader.cc:64] Could not load dynamic library 'libnvinfer_plugin.so.7'; dlerror: libnvinfer_plugin.so.7: cannot open shared object file: No such file or directory\n",
            "2023-07-05 16:23:25.159612: W tensorflow/compiler/tf2tensorrt/utils/py_utils.cc:38] TF-TRT Warning: Cannot dlopen some TensorRT libraries. If you would like to use Nvidia GPU with TensorRT, please make sure the missing libraries mentioned above are installed properly.\n",
            "2023-07-05 16:23:25.919191: I tensorflow/stream_executor/cuda/cuda_gpu_executor.cc:980] successful NUMA node read from SysFS had negative value (-1), but there must be at least one NUMA node, so returning NUMA node zero\n",
            "2023-07-05 16:23:25.934356: I tensorflow/stream_executor/cuda/cuda_gpu_executor.cc:980] successful NUMA node read from SysFS had negative value (-1), but there must be at least one NUMA node, so returning NUMA node zero\n",
            "2023-07-05 16:23:25.934457: I tensorflow/stream_executor/cuda/cuda_gpu_executor.cc:980] successful NUMA node read from SysFS had negative value (-1), but there must be at least one NUMA node, so returning NUMA node zero\n"
          ]
        },
        {
          "data": {
            "text/plain": [
              "[PhysicalDevice(name='/physical_device:CPU:0', device_type='CPU'),\n",
              " PhysicalDevice(name='/physical_device:GPU:0', device_type='GPU')]"
            ]
          },
          "execution_count": 1,
          "metadata": {},
          "output_type": "execute_result"
        }
      ],
      "source": [
        "import sys\n",
        "import datetime\n",
        "\n",
        "import numpy as np\n",
        "import pandas as pd\n",
        "import tensorflow as tf\n",
        "import autokeras as ak\n",
        "\n",
        "sys.path.append(\"..\")\n",
        "\n",
        "from utils import paths\n",
        "\n",
        "from sklearn.model_selection import train_test_split\n",
        "\n",
        "pd.set_option(\"display.max_columns\", None)\n",
        "\n",
        "tf.config.list_physical_devices()\n"
      ]
    },
    {
      "cell_type": "code",
      "execution_count": 2,
      "metadata": {
        "colab": {
          "base_uri": "https://localhost:8080/",
          "height": 340
        },
        "id": "CMhA1N7FC9ts",
        "outputId": "26af39c0-c83d-40e2-c726-b8c6c3b249ce"
      },
      "outputs": [
        {
          "data": {
            "text/html": [
              "<div>\n",
              "<style scoped>\n",
              "    .dataframe tbody tr th:only-of-type {\n",
              "        vertical-align: middle;\n",
              "    }\n",
              "\n",
              "    .dataframe tbody tr th {\n",
              "        vertical-align: top;\n",
              "    }\n",
              "\n",
              "    .dataframe thead th {\n",
              "        text-align: right;\n",
              "    }\n",
              "</style>\n",
              "<table border=\"1\" class=\"dataframe\">\n",
              "  <thead>\n",
              "    <tr style=\"text-align: right;\">\n",
              "      <th></th>\n",
              "      <th>SEXO</th>\n",
              "      <th>TIPO_PACIENTE</th>\n",
              "      <th>FECHA_INGRESO</th>\n",
              "      <th>FECHA_SINTOMAS</th>\n",
              "      <th>DEFUNCION</th>\n",
              "      <th>INTUBADO</th>\n",
              "      <th>NEUMONIA</th>\n",
              "      <th>EDAD</th>\n",
              "      <th>EMBARAZO</th>\n",
              "      <th>DIABETES</th>\n",
              "      <th>EPOC</th>\n",
              "      <th>ASMA</th>\n",
              "      <th>INMUSUPR</th>\n",
              "      <th>HIPERTENSION</th>\n",
              "      <th>OTRA_COM</th>\n",
              "      <th>CARDIOVASCULAR</th>\n",
              "      <th>OBESIDAD</th>\n",
              "      <th>RENAL_CRONICA</th>\n",
              "      <th>TABAQUISMO</th>\n",
              "      <th>OTRO_CASO</th>\n",
              "      <th>CLASIFICACION_FINAL</th>\n",
              "      <th>PAIS_NACIONALIDAD</th>\n",
              "      <th>PAIS_ORIGEN</th>\n",
              "      <th>UCI</th>\n",
              "    </tr>\n",
              "  </thead>\n",
              "  <tbody>\n",
              "    <tr>\n",
              "      <th>32336</th>\n",
              "      <td>1</td>\n",
              "      <td>2</td>\n",
              "      <td>2022-06-24</td>\n",
              "      <td>2022-06-22</td>\n",
              "      <td>1</td>\n",
              "      <td>2.0</td>\n",
              "      <td>1.0</td>\n",
              "      <td>84.0</td>\n",
              "      <td>2.0</td>\n",
              "      <td>2.0</td>\n",
              "      <td>1.0</td>\n",
              "      <td>2.0</td>\n",
              "      <td>2.0</td>\n",
              "      <td>1.0</td>\n",
              "      <td>2.0</td>\n",
              "      <td>1.0</td>\n",
              "      <td>1.0</td>\n",
              "      <td>2.0</td>\n",
              "      <td>2.0</td>\n",
              "      <td>NaN</td>\n",
              "      <td>7</td>\n",
              "      <td>109.0</td>\n",
              "      <td>0.0</td>\n",
              "      <td>2.0</td>\n",
              "    </tr>\n",
              "    <tr>\n",
              "      <th>14362</th>\n",
              "      <td>2</td>\n",
              "      <td>2</td>\n",
              "      <td>2022-01-06</td>\n",
              "      <td>2022-01-04</td>\n",
              "      <td>1</td>\n",
              "      <td>2.0</td>\n",
              "      <td>1.0</td>\n",
              "      <td>60.0</td>\n",
              "      <td>2.0</td>\n",
              "      <td>1.0</td>\n",
              "      <td>1.0</td>\n",
              "      <td>2.0</td>\n",
              "      <td>2.0</td>\n",
              "      <td>1.0</td>\n",
              "      <td>2.0</td>\n",
              "      <td>2.0</td>\n",
              "      <td>1.0</td>\n",
              "      <td>1.0</td>\n",
              "      <td>1.0</td>\n",
              "      <td>2.0</td>\n",
              "      <td>3</td>\n",
              "      <td>109.0</td>\n",
              "      <td>0.0</td>\n",
              "      <td>2.0</td>\n",
              "    </tr>\n",
              "    <tr>\n",
              "      <th>16963</th>\n",
              "      <td>2</td>\n",
              "      <td>2</td>\n",
              "      <td>2022-07-23</td>\n",
              "      <td>2022-07-15</td>\n",
              "      <td>1</td>\n",
              "      <td>2.0</td>\n",
              "      <td>1.0</td>\n",
              "      <td>87.0</td>\n",
              "      <td>2.0</td>\n",
              "      <td>2.0</td>\n",
              "      <td>2.0</td>\n",
              "      <td>2.0</td>\n",
              "      <td>2.0</td>\n",
              "      <td>2.0</td>\n",
              "      <td>2.0</td>\n",
              "      <td>2.0</td>\n",
              "      <td>2.0</td>\n",
              "      <td>2.0</td>\n",
              "      <td>2.0</td>\n",
              "      <td>NaN</td>\n",
              "      <td>3</td>\n",
              "      <td>109.0</td>\n",
              "      <td>0.0</td>\n",
              "      <td>2.0</td>\n",
              "    </tr>\n",
              "    <tr>\n",
              "      <th>64950</th>\n",
              "      <td>2</td>\n",
              "      <td>1</td>\n",
              "      <td>2022-02-25</td>\n",
              "      <td>2022-02-23</td>\n",
              "      <td>0</td>\n",
              "      <td>3.0</td>\n",
              "      <td>2.0</td>\n",
              "      <td>11.0</td>\n",
              "      <td>2.0</td>\n",
              "      <td>2.0</td>\n",
              "      <td>2.0</td>\n",
              "      <td>2.0</td>\n",
              "      <td>2.0</td>\n",
              "      <td>2.0</td>\n",
              "      <td>2.0</td>\n",
              "      <td>2.0</td>\n",
              "      <td>2.0</td>\n",
              "      <td>2.0</td>\n",
              "      <td>2.0</td>\n",
              "      <td>2.0</td>\n",
              "      <td>3</td>\n",
              "      <td>109.0</td>\n",
              "      <td>0.0</td>\n",
              "      <td>3.0</td>\n",
              "    </tr>\n",
              "    <tr>\n",
              "      <th>25107</th>\n",
              "      <td>1</td>\n",
              "      <td>1</td>\n",
              "      <td>2022-06-12</td>\n",
              "      <td>2022-06-11</td>\n",
              "      <td>0</td>\n",
              "      <td>3.0</td>\n",
              "      <td>2.0</td>\n",
              "      <td>2.0</td>\n",
              "      <td>2.0</td>\n",
              "      <td>2.0</td>\n",
              "      <td>2.0</td>\n",
              "      <td>2.0</td>\n",
              "      <td>2.0</td>\n",
              "      <td>2.0</td>\n",
              "      <td>2.0</td>\n",
              "      <td>2.0</td>\n",
              "      <td>2.0</td>\n",
              "      <td>2.0</td>\n",
              "      <td>2.0</td>\n",
              "      <td>2.0</td>\n",
              "      <td>7</td>\n",
              "      <td>109.0</td>\n",
              "      <td>0.0</td>\n",
              "      <td>3.0</td>\n",
              "    </tr>\n",
              "    <tr>\n",
              "      <th>28890</th>\n",
              "      <td>2</td>\n",
              "      <td>1</td>\n",
              "      <td>2022-01-05</td>\n",
              "      <td>2022-01-04</td>\n",
              "      <td>0</td>\n",
              "      <td>3.0</td>\n",
              "      <td>2.0</td>\n",
              "      <td>20.0</td>\n",
              "      <td>2.0</td>\n",
              "      <td>2.0</td>\n",
              "      <td>2.0</td>\n",
              "      <td>2.0</td>\n",
              "      <td>2.0</td>\n",
              "      <td>2.0</td>\n",
              "      <td>2.0</td>\n",
              "      <td>2.0</td>\n",
              "      <td>2.0</td>\n",
              "      <td>2.0</td>\n",
              "      <td>2.0</td>\n",
              "      <td>2.0</td>\n",
              "      <td>3</td>\n",
              "      <td>109.0</td>\n",
              "      <td>0.0</td>\n",
              "      <td>3.0</td>\n",
              "    </tr>\n",
              "    <tr>\n",
              "      <th>13117</th>\n",
              "      <td>1</td>\n",
              "      <td>2</td>\n",
              "      <td>2022-03-19</td>\n",
              "      <td>2022-03-19</td>\n",
              "      <td>1</td>\n",
              "      <td>2.0</td>\n",
              "      <td>1.0</td>\n",
              "      <td>80.0</td>\n",
              "      <td>2.0</td>\n",
              "      <td>2.0</td>\n",
              "      <td>2.0</td>\n",
              "      <td>2.0</td>\n",
              "      <td>2.0</td>\n",
              "      <td>1.0</td>\n",
              "      <td>2.0</td>\n",
              "      <td>2.0</td>\n",
              "      <td>2.0</td>\n",
              "      <td>2.0</td>\n",
              "      <td>2.0</td>\n",
              "      <td>2.0</td>\n",
              "      <td>7</td>\n",
              "      <td>109.0</td>\n",
              "      <td>0.0</td>\n",
              "      <td>2.0</td>\n",
              "    </tr>\n",
              "    <tr>\n",
              "      <th>57222</th>\n",
              "      <td>2</td>\n",
              "      <td>2</td>\n",
              "      <td>2023-01-26</td>\n",
              "      <td>2023-01-25</td>\n",
              "      <td>1</td>\n",
              "      <td>2.0</td>\n",
              "      <td>1.0</td>\n",
              "      <td>60.0</td>\n",
              "      <td>2.0</td>\n",
              "      <td>1.0</td>\n",
              "      <td>1.0</td>\n",
              "      <td>NaN</td>\n",
              "      <td>NaN</td>\n",
              "      <td>1.0</td>\n",
              "      <td>NaN</td>\n",
              "      <td>NaN</td>\n",
              "      <td>1.0</td>\n",
              "      <td>NaN</td>\n",
              "      <td>1.0</td>\n",
              "      <td>NaN</td>\n",
              "      <td>3</td>\n",
              "      <td>109.0</td>\n",
              "      <td>0.0</td>\n",
              "      <td>2.0</td>\n",
              "    </tr>\n",
              "    <tr>\n",
              "      <th>57202</th>\n",
              "      <td>1</td>\n",
              "      <td>2</td>\n",
              "      <td>2022-02-08</td>\n",
              "      <td>2022-02-07</td>\n",
              "      <td>1</td>\n",
              "      <td>2.0</td>\n",
              "      <td>1.0</td>\n",
              "      <td>69.0</td>\n",
              "      <td>2.0</td>\n",
              "      <td>1.0</td>\n",
              "      <td>2.0</td>\n",
              "      <td>2.0</td>\n",
              "      <td>2.0</td>\n",
              "      <td>1.0</td>\n",
              "      <td>2.0</td>\n",
              "      <td>2.0</td>\n",
              "      <td>2.0</td>\n",
              "      <td>2.0</td>\n",
              "      <td>2.0</td>\n",
              "      <td>2.0</td>\n",
              "      <td>3</td>\n",
              "      <td>109.0</td>\n",
              "      <td>0.0</td>\n",
              "      <td>2.0</td>\n",
              "    </tr>\n",
              "    <tr>\n",
              "      <th>45097</th>\n",
              "      <td>1</td>\n",
              "      <td>2</td>\n",
              "      <td>2022-12-31</td>\n",
              "      <td>2022-12-26</td>\n",
              "      <td>0</td>\n",
              "      <td>2.0</td>\n",
              "      <td>2.0</td>\n",
              "      <td>0.0</td>\n",
              "      <td>2.0</td>\n",
              "      <td>2.0</td>\n",
              "      <td>2.0</td>\n",
              "      <td>2.0</td>\n",
              "      <td>2.0</td>\n",
              "      <td>2.0</td>\n",
              "      <td>NaN</td>\n",
              "      <td>2.0</td>\n",
              "      <td>2.0</td>\n",
              "      <td>2.0</td>\n",
              "      <td>2.0</td>\n",
              "      <td>2.0</td>\n",
              "      <td>3</td>\n",
              "      <td>109.0</td>\n",
              "      <td>0.0</td>\n",
              "      <td>2.0</td>\n",
              "    </tr>\n",
              "  </tbody>\n",
              "</table>\n",
              "</div>"
            ],
            "text/plain": [
              "       SEXO  TIPO_PACIENTE FECHA_INGRESO FECHA_SINTOMAS  DEFUNCION  INTUBADO  \\\n",
              "32336     1              2    2022-06-24     2022-06-22          1       2.0   \n",
              "14362     2              2    2022-01-06     2022-01-04          1       2.0   \n",
              "16963     2              2    2022-07-23     2022-07-15          1       2.0   \n",
              "64950     2              1    2022-02-25     2022-02-23          0       3.0   \n",
              "25107     1              1    2022-06-12     2022-06-11          0       3.0   \n",
              "28890     2              1    2022-01-05     2022-01-04          0       3.0   \n",
              "13117     1              2    2022-03-19     2022-03-19          1       2.0   \n",
              "57222     2              2    2023-01-26     2023-01-25          1       2.0   \n",
              "57202     1              2    2022-02-08     2022-02-07          1       2.0   \n",
              "45097     1              2    2022-12-31     2022-12-26          0       2.0   \n",
              "\n",
              "       NEUMONIA  EDAD  EMBARAZO  DIABETES  EPOC  ASMA  INMUSUPR  HIPERTENSION  \\\n",
              "32336       1.0  84.0       2.0       2.0   1.0   2.0       2.0           1.0   \n",
              "14362       1.0  60.0       2.0       1.0   1.0   2.0       2.0           1.0   \n",
              "16963       1.0  87.0       2.0       2.0   2.0   2.0       2.0           2.0   \n",
              "64950       2.0  11.0       2.0       2.0   2.0   2.0       2.0           2.0   \n",
              "25107       2.0   2.0       2.0       2.0   2.0   2.0       2.0           2.0   \n",
              "28890       2.0  20.0       2.0       2.0   2.0   2.0       2.0           2.0   \n",
              "13117       1.0  80.0       2.0       2.0   2.0   2.0       2.0           1.0   \n",
              "57222       1.0  60.0       2.0       1.0   1.0   NaN       NaN           1.0   \n",
              "57202       1.0  69.0       2.0       1.0   2.0   2.0       2.0           1.0   \n",
              "45097       2.0   0.0       2.0       2.0   2.0   2.0       2.0           2.0   \n",
              "\n",
              "       OTRA_COM  CARDIOVASCULAR  OBESIDAD  RENAL_CRONICA  TABAQUISMO  \\\n",
              "32336       2.0             1.0       1.0            2.0         2.0   \n",
              "14362       2.0             2.0       1.0            1.0         1.0   \n",
              "16963       2.0             2.0       2.0            2.0         2.0   \n",
              "64950       2.0             2.0       2.0            2.0         2.0   \n",
              "25107       2.0             2.0       2.0            2.0         2.0   \n",
              "28890       2.0             2.0       2.0            2.0         2.0   \n",
              "13117       2.0             2.0       2.0            2.0         2.0   \n",
              "57222       NaN             NaN       1.0            NaN         1.0   \n",
              "57202       2.0             2.0       2.0            2.0         2.0   \n",
              "45097       NaN             2.0       2.0            2.0         2.0   \n",
              "\n",
              "       OTRO_CASO  CLASIFICACION_FINAL  PAIS_NACIONALIDAD  PAIS_ORIGEN  UCI  \n",
              "32336        NaN                    7              109.0          0.0  2.0  \n",
              "14362        2.0                    3              109.0          0.0  2.0  \n",
              "16963        NaN                    3              109.0          0.0  2.0  \n",
              "64950        2.0                    3              109.0          0.0  3.0  \n",
              "25107        2.0                    7              109.0          0.0  3.0  \n",
              "28890        2.0                    3              109.0          0.0  3.0  \n",
              "13117        2.0                    7              109.0          0.0  2.0  \n",
              "57222        NaN                    3              109.0          0.0  2.0  \n",
              "57202        2.0                    3              109.0          0.0  2.0  \n",
              "45097        2.0                    3              109.0          0.0  2.0  "
            ]
          },
          "execution_count": 2,
          "metadata": {},
          "output_type": "execute_result"
        }
      ],
      "source": [
        "data = pd.read_csv(paths.DATA_PATH + \"/COVID19MX_sample.csv\")\n",
        "data.sample(10)\n"
      ]
    },
    {
      "cell_type": "code",
      "execution_count": 3,
      "metadata": {
        "colab": {
          "base_uri": "https://localhost:8080/"
        },
        "id": "ujqqmLdEC_P5",
        "outputId": "a13c31c6-bb94-4893-90b0-013bdc195141"
      },
      "outputs": [
        {
          "name": "stdout",
          "output_type": "stream",
          "text": [
            "Train: (74766, 21)\n",
            "Test: (18692, 21)\n"
          ]
        }
      ],
      "source": [
        "X = data.drop(columns=[\"DEFUNCION\", \"FECHA_INGRESO\", \"FECHA_SINTOMAS\"]).to_numpy()\n",
        "Y = data[[\"DEFUNCION\"]].to_numpy()\n",
        "\n",
        "X_train, X_test, Y_train, Y_test = train_test_split(X, Y, test_size=0.20, random_state=557)\n",
        "\n",
        "print(f\"Train: {X_train.shape}\")\n",
        "print(f\"Test: {X_test.shape}\")\n"
      ]
    },
    {
      "cell_type": "code",
      "execution_count": 4,
      "metadata": {
        "colab": {
          "base_uri": "https://localhost:8080/"
        },
        "id": "ghu2O7etDAL-",
        "outputId": "5198b159-b2e2-4513-c62e-e6671cf814f6"
      },
      "outputs": [
        {
          "name": "stdout",
          "output_type": "stream",
          "text": [
            "Trial 2 Complete [00h 00m 54s]\n",
            "\n",
            "Best val_accuracy So Far: None\n",
            "Total elapsed time: 00h 01m 49s\n",
            "INFO:tensorflow:Oracle triggered exit\n",
            "Epoch 1/10\n",
            "2337/2337 [==============================] - ETA: 0s - loss: 0.0942 - accuracy: 0.9756"
          ]
        },
        {
          "ename": "AttributeError",
          "evalue": "'VocabWeightHandler' object has no attribute 'name'",
          "output_type": "error",
          "traceback": [
            "\u001b[0;31m---------------------------------------------------------------------------\u001b[0m",
            "\u001b[0;31mAttributeError\u001b[0m                            Traceback (most recent call last)",
            "Cell \u001b[0;32mIn[4], line 9\u001b[0m\n\u001b[1;32m      6\u001b[0m log_dir \u001b[39m=\u001b[39m \u001b[39m\"\u001b[39m\u001b[39mlogs/fit/\u001b[39m\u001b[39m\"\u001b[39m \u001b[39m+\u001b[39m datetime\u001b[39m.\u001b[39mdatetime\u001b[39m.\u001b[39mnow()\u001b[39m.\u001b[39mstrftime(\u001b[39m\"\u001b[39m\u001b[39m%\u001b[39m\u001b[39mY\u001b[39m\u001b[39m%\u001b[39m\u001b[39mm\u001b[39m\u001b[39m%d\u001b[39;00m\u001b[39m-\u001b[39m\u001b[39m%\u001b[39m\u001b[39mH\u001b[39m\u001b[39m%\u001b[39m\u001b[39mM\u001b[39m\u001b[39m%\u001b[39m\u001b[39mS\u001b[39m\u001b[39m\"\u001b[39m)\n\u001b[1;32m      7\u001b[0m tensorboard_callback \u001b[39m=\u001b[39m tf\u001b[39m.\u001b[39mkeras\u001b[39m.\u001b[39mcallbacks\u001b[39m.\u001b[39mTensorBoard(log_dir\u001b[39m=\u001b[39mlog_dir, histogram_freq\u001b[39m=\u001b[39m\u001b[39m1\u001b[39m)\n\u001b[0;32m----> 9\u001b[0m train_history \u001b[39m=\u001b[39m clf\u001b[39m.\u001b[39;49mfit(\n\u001b[1;32m     10\u001b[0m     x\u001b[39m=\u001b[39;49mX_train, y\u001b[39m=\u001b[39;49mY_train,\n\u001b[1;32m     11\u001b[0m     epochs\u001b[39m=\u001b[39;49m\u001b[39m10\u001b[39;49m, validation_split\u001b[39m=\u001b[39;49m\u001b[39m0.25\u001b[39;49m,\n\u001b[1;32m     12\u001b[0m     callbacks\u001b[39m=\u001b[39;49m[tensorboard_callback]\n\u001b[1;32m     13\u001b[0m )\n",
            "File \u001b[0;32m/mnt/Datos/.enviroments/ubu20/AutoDLp38/lib/python3.8/site-packages/autokeras/tasks/structured_data.py:326\u001b[0m, in \u001b[0;36mStructuredDataClassifier.fit\u001b[0;34m(self, x, y, epochs, callbacks, validation_split, validation_data, **kwargs)\u001b[0m\n\u001b[1;32m    279\u001b[0m \u001b[39mdef\u001b[39;00m \u001b[39mfit\u001b[39m(\n\u001b[1;32m    280\u001b[0m     \u001b[39mself\u001b[39m,\n\u001b[1;32m    281\u001b[0m     x\u001b[39m=\u001b[39m\u001b[39mNone\u001b[39;00m,\n\u001b[0;32m   (...)\u001b[0m\n\u001b[1;32m    287\u001b[0m     \u001b[39m*\u001b[39m\u001b[39m*\u001b[39mkwargs\n\u001b[1;32m    288\u001b[0m ):\n\u001b[1;32m    289\u001b[0m \u001b[39m    \u001b[39m\u001b[39m\"\"\"Search for the best model and hyperparameters for the AutoModel.\u001b[39;00m\n\u001b[1;32m    290\u001b[0m \n\u001b[1;32m    291\u001b[0m \u001b[39m    # Arguments\u001b[39;00m\n\u001b[0;32m   (...)\u001b[0m\n\u001b[1;32m    324\u001b[0m \u001b[39m            validation loss values and validation metrics values (if applicable).\u001b[39;00m\n\u001b[1;32m    325\u001b[0m \u001b[39m    \"\"\"\u001b[39;00m\n\u001b[0;32m--> 326\u001b[0m     history \u001b[39m=\u001b[39m \u001b[39msuper\u001b[39;49m()\u001b[39m.\u001b[39;49mfit(\n\u001b[1;32m    327\u001b[0m         x\u001b[39m=\u001b[39;49mx,\n\u001b[1;32m    328\u001b[0m         y\u001b[39m=\u001b[39;49my,\n\u001b[1;32m    329\u001b[0m         epochs\u001b[39m=\u001b[39;49mepochs,\n\u001b[1;32m    330\u001b[0m         callbacks\u001b[39m=\u001b[39;49mcallbacks,\n\u001b[1;32m    331\u001b[0m         validation_split\u001b[39m=\u001b[39;49mvalidation_split,\n\u001b[1;32m    332\u001b[0m         validation_data\u001b[39m=\u001b[39;49mvalidation_data,\n\u001b[1;32m    333\u001b[0m         \u001b[39m*\u001b[39;49m\u001b[39m*\u001b[39;49mkwargs\n\u001b[1;32m    334\u001b[0m     )\n\u001b[1;32m    335\u001b[0m     \u001b[39mreturn\u001b[39;00m history\n",
            "File \u001b[0;32m/mnt/Datos/.enviroments/ubu20/AutoDLp38/lib/python3.8/site-packages/autokeras/tasks/structured_data.py:139\u001b[0m, in \u001b[0;36mBaseStructuredDataPipeline.fit\u001b[0;34m(self, x, y, epochs, callbacks, validation_split, validation_data, **kwargs)\u001b[0m\n\u001b[1;32m    135\u001b[0m         validation_data \u001b[39m=\u001b[39m \u001b[39mself\u001b[39m\u001b[39m.\u001b[39m_read_from_csv(x_val, y_val)\n\u001b[1;32m    137\u001b[0m \u001b[39mself\u001b[39m\u001b[39m.\u001b[39mcheck_in_fit(x)\n\u001b[0;32m--> 139\u001b[0m history \u001b[39m=\u001b[39m \u001b[39msuper\u001b[39;49m()\u001b[39m.\u001b[39;49mfit(\n\u001b[1;32m    140\u001b[0m     x\u001b[39m=\u001b[39;49mx,\n\u001b[1;32m    141\u001b[0m     y\u001b[39m=\u001b[39;49my,\n\u001b[1;32m    142\u001b[0m     epochs\u001b[39m=\u001b[39;49mepochs,\n\u001b[1;32m    143\u001b[0m     callbacks\u001b[39m=\u001b[39;49mcallbacks,\n\u001b[1;32m    144\u001b[0m     validation_split\u001b[39m=\u001b[39;49mvalidation_split,\n\u001b[1;32m    145\u001b[0m     validation_data\u001b[39m=\u001b[39;49mvalidation_data,\n\u001b[1;32m    146\u001b[0m     \u001b[39m*\u001b[39;49m\u001b[39m*\u001b[39;49mkwargs\n\u001b[1;32m    147\u001b[0m )\n\u001b[1;32m    148\u001b[0m \u001b[39mreturn\u001b[39;00m history\n",
            "File \u001b[0;32m/mnt/Datos/.enviroments/ubu20/AutoDLp38/lib/python3.8/site-packages/autokeras/auto_model.py:292\u001b[0m, in \u001b[0;36mAutoModel.fit\u001b[0;34m(self, x, y, batch_size, epochs, callbacks, validation_split, validation_data, verbose, **kwargs)\u001b[0m\n\u001b[1;32m    287\u001b[0m \u001b[39mif\u001b[39;00m validation_data \u001b[39mis\u001b[39;00m \u001b[39mNone\u001b[39;00m \u001b[39mand\u001b[39;00m validation_split:\n\u001b[1;32m    288\u001b[0m     dataset, validation_data \u001b[39m=\u001b[39m data_utils\u001b[39m.\u001b[39msplit_dataset(\n\u001b[1;32m    289\u001b[0m         dataset, validation_split\n\u001b[1;32m    290\u001b[0m     )\n\u001b[0;32m--> 292\u001b[0m history \u001b[39m=\u001b[39m \u001b[39mself\u001b[39;49m\u001b[39m.\u001b[39;49mtuner\u001b[39m.\u001b[39;49msearch(\n\u001b[1;32m    293\u001b[0m     x\u001b[39m=\u001b[39;49mdataset,\n\u001b[1;32m    294\u001b[0m     epochs\u001b[39m=\u001b[39;49mepochs,\n\u001b[1;32m    295\u001b[0m     callbacks\u001b[39m=\u001b[39;49mcallbacks,\n\u001b[1;32m    296\u001b[0m     validation_data\u001b[39m=\u001b[39;49mvalidation_data,\n\u001b[1;32m    297\u001b[0m     validation_split\u001b[39m=\u001b[39;49mvalidation_split,\n\u001b[1;32m    298\u001b[0m     verbose\u001b[39m=\u001b[39;49mverbose,\n\u001b[1;32m    299\u001b[0m     \u001b[39m*\u001b[39;49m\u001b[39m*\u001b[39;49mkwargs\n\u001b[1;32m    300\u001b[0m )\n\u001b[1;32m    302\u001b[0m \u001b[39mreturn\u001b[39;00m history\n",
            "File \u001b[0;32m/mnt/Datos/.enviroments/ubu20/AutoDLp38/lib/python3.8/site-packages/autokeras/engine/tuner.py:220\u001b[0m, in \u001b[0;36mAutoTuner.search\u001b[0;34m(self, epochs, callbacks, validation_split, verbose, **fit_kwargs)\u001b[0m\n\u001b[1;32m    218\u001b[0m     \u001b[39mself\u001b[39m\u001b[39m.\u001b[39mhypermodel\u001b[39m.\u001b[39mset_fit_args(\u001b[39m0\u001b[39m, epochs\u001b[39m=\u001b[39mcopied_fit_kwargs[\u001b[39m\"\u001b[39m\u001b[39mepochs\u001b[39m\u001b[39m\"\u001b[39m])\n\u001b[1;32m    219\u001b[0m     copied_fit_kwargs[\u001b[39m\"\u001b[39m\u001b[39mverbose\u001b[39m\u001b[39m\"\u001b[39m] \u001b[39m=\u001b[39m verbose\n\u001b[0;32m--> 220\u001b[0m     pipeline, model, history \u001b[39m=\u001b[39m \u001b[39mself\u001b[39;49m\u001b[39m.\u001b[39;49mfinal_fit(\u001b[39m*\u001b[39;49m\u001b[39m*\u001b[39;49mcopied_fit_kwargs)\n\u001b[1;32m    221\u001b[0m \u001b[39melse\u001b[39;00m:\n\u001b[1;32m    222\u001b[0m     \u001b[39m# TODO: Add return history functionality in Keras Tuner\u001b[39;00m\n\u001b[1;32m    223\u001b[0m     model \u001b[39m=\u001b[39m \u001b[39mself\u001b[39m\u001b[39m.\u001b[39mget_best_models()[\u001b[39m0\u001b[39m]\n",
            "File \u001b[0;32m/mnt/Datos/.enviroments/ubu20/AutoDLp38/lib/python3.8/site-packages/autokeras/engine/tuner.py:270\u001b[0m, in \u001b[0;36mAutoTuner.final_fit\u001b[0;34m(self, **kwargs)\u001b[0m\n\u001b[1;32m    268\u001b[0m model \u001b[39m=\u001b[39m \u001b[39mself\u001b[39m\u001b[39m.\u001b[39m_build_best_model()\n\u001b[1;32m    269\u001b[0m \u001b[39mself\u001b[39m\u001b[39m.\u001b[39madapt(model, kwargs[\u001b[39m\"\u001b[39m\u001b[39mx\u001b[39m\u001b[39m\"\u001b[39m])\n\u001b[0;32m--> 270\u001b[0m model, history \u001b[39m=\u001b[39m utils\u001b[39m.\u001b[39;49mfit_with_adaptive_batch_size(\n\u001b[1;32m    271\u001b[0m     model, \u001b[39mself\u001b[39;49m\u001b[39m.\u001b[39;49mhypermodel\u001b[39m.\u001b[39;49mbatch_size, \u001b[39m*\u001b[39;49m\u001b[39m*\u001b[39;49mkwargs\n\u001b[1;32m    272\u001b[0m )\n\u001b[1;32m    273\u001b[0m \u001b[39mreturn\u001b[39;00m pipeline, model, history\n",
            "File \u001b[0;32m/mnt/Datos/.enviroments/ubu20/AutoDLp38/lib/python3.8/site-packages/autokeras/utils/utils.py:88\u001b[0m, in \u001b[0;36mfit_with_adaptive_batch_size\u001b[0;34m(model, batch_size, **fit_kwargs)\u001b[0m\n\u001b[1;32m     87\u001b[0m \u001b[39mdef\u001b[39;00m \u001b[39mfit_with_adaptive_batch_size\u001b[39m(model, batch_size, \u001b[39m*\u001b[39m\u001b[39m*\u001b[39mfit_kwargs):\n\u001b[0;32m---> 88\u001b[0m     history \u001b[39m=\u001b[39m run_with_adaptive_batch_size(\n\u001b[1;32m     89\u001b[0m         batch_size, \u001b[39mlambda\u001b[39;49;00m \u001b[39m*\u001b[39;49m\u001b[39m*\u001b[39;49mkwargs: model\u001b[39m.\u001b[39;49mfit(\u001b[39m*\u001b[39;49m\u001b[39m*\u001b[39;49mkwargs), \u001b[39m*\u001b[39;49m\u001b[39m*\u001b[39;49mfit_kwargs\n\u001b[1;32m     90\u001b[0m     )\n\u001b[1;32m     91\u001b[0m     \u001b[39mreturn\u001b[39;00m model, history\n",
            "File \u001b[0;32m/mnt/Datos/.enviroments/ubu20/AutoDLp38/lib/python3.8/site-packages/autokeras/utils/utils.py:101\u001b[0m, in \u001b[0;36mrun_with_adaptive_batch_size\u001b[0;34m(batch_size, func, **fit_kwargs)\u001b[0m\n\u001b[1;32m     99\u001b[0m \u001b[39mwhile\u001b[39;00m batch_size \u001b[39m>\u001b[39m \u001b[39m0\u001b[39m:\n\u001b[1;32m    100\u001b[0m     \u001b[39mtry\u001b[39;00m:\n\u001b[0;32m--> 101\u001b[0m         history \u001b[39m=\u001b[39m func(x\u001b[39m=\u001b[39;49mx, validation_data\u001b[39m=\u001b[39;49mvalidation_data, \u001b[39m*\u001b[39;49m\u001b[39m*\u001b[39;49mfit_kwargs)\n\u001b[1;32m    102\u001b[0m         \u001b[39mbreak\u001b[39;00m\n\u001b[1;32m    103\u001b[0m     \u001b[39mexcept\u001b[39;00m tf\u001b[39m.\u001b[39merrors\u001b[39m.\u001b[39mResourceExhaustedError \u001b[39mas\u001b[39;00m e:\n",
            "File \u001b[0;32m/mnt/Datos/.enviroments/ubu20/AutoDLp38/lib/python3.8/site-packages/autokeras/utils/utils.py:89\u001b[0m, in \u001b[0;36mfit_with_adaptive_batch_size.<locals>.<lambda>\u001b[0;34m(**kwargs)\u001b[0m\n\u001b[1;32m     87\u001b[0m \u001b[39mdef\u001b[39;00m \u001b[39mfit_with_adaptive_batch_size\u001b[39m(model, batch_size, \u001b[39m*\u001b[39m\u001b[39m*\u001b[39mfit_kwargs):\n\u001b[1;32m     88\u001b[0m     history \u001b[39m=\u001b[39m run_with_adaptive_batch_size(\n\u001b[0;32m---> 89\u001b[0m         batch_size, \u001b[39mlambda\u001b[39;00m \u001b[39m*\u001b[39m\u001b[39m*\u001b[39mkwargs: model\u001b[39m.\u001b[39;49mfit(\u001b[39m*\u001b[39;49m\u001b[39m*\u001b[39;49mkwargs), \u001b[39m*\u001b[39m\u001b[39m*\u001b[39mfit_kwargs\n\u001b[1;32m     90\u001b[0m     )\n\u001b[1;32m     91\u001b[0m     \u001b[39mreturn\u001b[39;00m model, history\n",
            "File \u001b[0;32m/mnt/Datos/.enviroments/ubu20/AutoDLp38/lib/python3.8/site-packages/keras/utils/traceback_utils.py:70\u001b[0m, in \u001b[0;36mfilter_traceback.<locals>.error_handler\u001b[0;34m(*args, **kwargs)\u001b[0m\n\u001b[1;32m     67\u001b[0m     filtered_tb \u001b[39m=\u001b[39m _process_traceback_frames(e\u001b[39m.\u001b[39m__traceback__)\n\u001b[1;32m     68\u001b[0m     \u001b[39m# To get the full stack trace, call:\u001b[39;00m\n\u001b[1;32m     69\u001b[0m     \u001b[39m# `tf.debugging.disable_traceback_filtering()`\u001b[39;00m\n\u001b[0;32m---> 70\u001b[0m     \u001b[39mraise\u001b[39;00m e\u001b[39m.\u001b[39mwith_traceback(filtered_tb) \u001b[39mfrom\u001b[39;00m \u001b[39mNone\u001b[39;00m\n\u001b[1;32m     71\u001b[0m \u001b[39mfinally\u001b[39;00m:\n\u001b[1;32m     72\u001b[0m     \u001b[39mdel\u001b[39;00m filtered_tb\n",
            "File \u001b[0;32m/mnt/Datos/.enviroments/ubu20/AutoDLp38/lib/python3.8/site-packages/keras/callbacks.py:2806\u001b[0m, in \u001b[0;36mTensorBoard._log_weights\u001b[0;34m(self, epoch)\u001b[0m\n\u001b[1;32m   2804\u001b[0m \u001b[39mfor\u001b[39;00m layer \u001b[39min\u001b[39;00m \u001b[39mself\u001b[39m\u001b[39m.\u001b[39mmodel\u001b[39m.\u001b[39mlayers:\n\u001b[1;32m   2805\u001b[0m     \u001b[39mfor\u001b[39;00m weight \u001b[39min\u001b[39;00m layer\u001b[39m.\u001b[39mweights:\n\u001b[0;32m-> 2806\u001b[0m         weight_name \u001b[39m=\u001b[39m weight\u001b[39m.\u001b[39mname\u001b[39m.\u001b[39mreplace(\u001b[39m\"\u001b[39m\u001b[39m:\u001b[39m\u001b[39m\"\u001b[39m, \u001b[39m\"\u001b[39m\u001b[39m_\u001b[39m\u001b[39m\"\u001b[39m)\n\u001b[1;32m   2807\u001b[0m         \u001b[39m# Add a suffix to prevent summary tag name collision.\u001b[39;00m\n\u001b[1;32m   2808\u001b[0m         histogram_weight_name \u001b[39m=\u001b[39m weight_name \u001b[39m+\u001b[39m \u001b[39m\"\u001b[39m\u001b[39m/histogram\u001b[39m\u001b[39m\"\u001b[39m\n",
            "\u001b[0;31mAttributeError\u001b[0m: 'VocabWeightHandler' object has no attribute 'name'"
          ]
        }
      ],
      "source": [
        "clf = ak.StructuredDataClassifier(\n",
        "    overwrite=True, max_trials=2, num_classes=2,\n",
        "    directory=\"../autokeras_search\", project_name=f\"experiment_{datetime.datetime.now().strftime('%Y%m%d-%H%M%S')}\"\n",
        ")\n",
        "\n",
        "log_dir = \"logs/fit/\" + datetime.datetime.now().strftime(\"%Y%m%d-%H%M%S\")\n",
        "tensorboard_callback = tf.keras.callbacks.TensorBoard(log_dir=log_dir, histogram_freq=1)\n",
        "\n",
        "train_history = clf.fit(\n",
        "    x=X_train, y=Y_train,\n",
        "    epochs=10, validation_split=0.25,\n",
        "    callbacks=[tensorboard_callback]\n",
        ")\n"
      ]
    },
    {
      "cell_type": "code",
      "execution_count": null,
      "metadata": {},
      "outputs": [],
      "source": [
        "%tensorboard --logdir logs/fit\n"
      ]
    },
    {
      "cell_type": "code",
      "execution_count": 5,
      "metadata": {
        "colab": {
          "base_uri": "https://localhost:8080/"
        },
        "id": "XOHM9acbJvIe",
        "outputId": "db046a76-6144-42f1-bacd-02770f411fbd"
      },
      "outputs": [
        {
          "ename": "NotFoundError",
          "evalue": "../autokeras_search/experiment_20230705-162443/best_pipeline; No such file or directory",
          "output_type": "error",
          "traceback": [
            "\u001b[0;31m---------------------------------------------------------------------------\u001b[0m",
            "\u001b[0;31mNotFoundError\u001b[0m                             Traceback (most recent call last)",
            "Cell \u001b[0;32mIn[5], line 1\u001b[0m\n\u001b[0;32m----> 1\u001b[0m predicted_y \u001b[39m=\u001b[39m clf\u001b[39m.\u001b[39;49mpredict(X_test)\n",
            "File \u001b[0;32m/mnt/Datos/.enviroments/ubu20/AutoDLp38/lib/python3.8/site-packages/autokeras/tasks/structured_data.py:165\u001b[0m, in \u001b[0;36mBaseStructuredDataPipeline.predict\u001b[0;34m(self, x, **kwargs)\u001b[0m\n\u001b[1;32m    151\u001b[0m \u001b[39m\u001b[39m\u001b[39m\"\"\"Predict the output for a given testing data.\u001b[39;00m\n\u001b[1;32m    152\u001b[0m \n\u001b[1;32m    153\u001b[0m \u001b[39m# Arguments\u001b[39;00m\n\u001b[0;32m   (...)\u001b[0m\n\u001b[1;32m    161\u001b[0m \u001b[39m    The predicted results.\u001b[39;00m\n\u001b[1;32m    162\u001b[0m \u001b[39m\"\"\"\u001b[39;00m\n\u001b[1;32m    163\u001b[0m x \u001b[39m=\u001b[39m \u001b[39mself\u001b[39m\u001b[39m.\u001b[39mread_for_predict(x)\n\u001b[0;32m--> 165\u001b[0m \u001b[39mreturn\u001b[39;00m \u001b[39msuper\u001b[39;49m()\u001b[39m.\u001b[39;49mpredict(x\u001b[39m=\u001b[39;49mx, \u001b[39m*\u001b[39;49m\u001b[39m*\u001b[39;49mkwargs)\n",
            "File \u001b[0;32m/mnt/Datos/.enviroments/ubu20/AutoDLp38/lib/python3.8/site-packages/autokeras/auto_model.py:451\u001b[0m, in \u001b[0;36mAutoModel.predict\u001b[0;34m(self, x, batch_size, verbose, **kwargs)\u001b[0m\n\u001b[1;32m    449\u001b[0m \u001b[39mself\u001b[39m\u001b[39m.\u001b[39m_check_data_format((x, \u001b[39mNone\u001b[39;00m), predict\u001b[39m=\u001b[39m\u001b[39mTrue\u001b[39;00m)\n\u001b[1;32m    450\u001b[0m dataset \u001b[39m=\u001b[39m \u001b[39mself\u001b[39m\u001b[39m.\u001b[39m_adapt(x, \u001b[39mself\u001b[39m\u001b[39m.\u001b[39minputs, batch_size)\n\u001b[0;32m--> 451\u001b[0m pipeline \u001b[39m=\u001b[39m \u001b[39mself\u001b[39;49m\u001b[39m.\u001b[39;49mtuner\u001b[39m.\u001b[39;49mget_best_pipeline()\n\u001b[1;32m    452\u001b[0m model \u001b[39m=\u001b[39m \u001b[39mself\u001b[39m\u001b[39m.\u001b[39mtuner\u001b[39m.\u001b[39mget_best_model()\n\u001b[1;32m    453\u001b[0m dataset \u001b[39m=\u001b[39m pipeline\u001b[39m.\u001b[39mtransform_x(dataset)\n",
            "File \u001b[0;32m/mnt/Datos/.enviroments/ubu20/AutoDLp38/lib/python3.8/site-packages/autokeras/engine/tuner.py:67\u001b[0m, in \u001b[0;36mAutoTuner.get_best_pipeline\u001b[0;34m(self)\u001b[0m\n\u001b[1;32m     66\u001b[0m \u001b[39mdef\u001b[39;00m \u001b[39mget_best_pipeline\u001b[39m(\u001b[39mself\u001b[39m):\n\u001b[0;32m---> 67\u001b[0m     \u001b[39mreturn\u001b[39;00m pipeline_module\u001b[39m.\u001b[39;49mload_pipeline(\u001b[39mself\u001b[39;49m\u001b[39m.\u001b[39;49mbest_pipeline_path)\n",
            "File \u001b[0;32m/mnt/Datos/.enviroments/ubu20/AutoDLp38/lib/python3.8/site-packages/autokeras/pipeline.py:77\u001b[0m, in \u001b[0;36mload_pipeline\u001b[0;34m(filepath, custom_objects)\u001b[0m\n\u001b[1;32m     75\u001b[0m     custom_objects \u001b[39m=\u001b[39m {}\n\u001b[1;32m     76\u001b[0m \u001b[39mwith\u001b[39;00m keras\u001b[39m.\u001b[39mutils\u001b[39m.\u001b[39mcustom_object_scope(custom_objects):\n\u001b[0;32m---> 77\u001b[0m     \u001b[39mreturn\u001b[39;00m Pipeline\u001b[39m.\u001b[39mfrom_config(io_utils\u001b[39m.\u001b[39;49mload_json(filepath))\n",
            "File \u001b[0;32m/mnt/Datos/.enviroments/ubu20/AutoDLp38/lib/python3.8/site-packages/autokeras/utils/io_utils.py:36\u001b[0m, in \u001b[0;36mload_json\u001b[0;34m(path)\u001b[0m\n\u001b[1;32m     34\u001b[0m \u001b[39mdef\u001b[39;00m \u001b[39mload_json\u001b[39m(path):\n\u001b[1;32m     35\u001b[0m     \u001b[39mwith\u001b[39;00m tf\u001b[39m.\u001b[39mio\u001b[39m.\u001b[39mgfile\u001b[39m.\u001b[39mGFile(path, \u001b[39m\"\u001b[39m\u001b[39mr\u001b[39m\u001b[39m\"\u001b[39m) \u001b[39mas\u001b[39;00m f:\n\u001b[0;32m---> 36\u001b[0m         obj \u001b[39m=\u001b[39m f\u001b[39m.\u001b[39;49mread()\n\u001b[1;32m     37\u001b[0m     \u001b[39mreturn\u001b[39;00m json\u001b[39m.\u001b[39mloads(obj)\n",
            "File \u001b[0;32m/mnt/Datos/.enviroments/ubu20/AutoDLp38/lib/python3.8/site-packages/tensorflow/python/lib/io/file_io.py:114\u001b[0m, in \u001b[0;36mFileIO.read\u001b[0;34m(self, n)\u001b[0m\n\u001b[1;32m    102\u001b[0m \u001b[39mdef\u001b[39;00m \u001b[39mread\u001b[39m(\u001b[39mself\u001b[39m, n\u001b[39m=\u001b[39m\u001b[39m-\u001b[39m\u001b[39m1\u001b[39m):\n\u001b[1;32m    103\u001b[0m \u001b[39m  \u001b[39m\u001b[39m\"\"\"Returns the contents of a file as a string.\u001b[39;00m\n\u001b[1;32m    104\u001b[0m \n\u001b[1;32m    105\u001b[0m \u001b[39m  Starts reading from current position in file.\u001b[39;00m\n\u001b[0;32m   (...)\u001b[0m\n\u001b[1;32m    112\u001b[0m \u001b[39m    string if in string (regular) mode.\u001b[39;00m\n\u001b[1;32m    113\u001b[0m \u001b[39m  \"\"\"\u001b[39;00m\n\u001b[0;32m--> 114\u001b[0m   \u001b[39mself\u001b[39;49m\u001b[39m.\u001b[39;49m_preread_check()\n\u001b[1;32m    115\u001b[0m   \u001b[39mif\u001b[39;00m n \u001b[39m==\u001b[39m \u001b[39m-\u001b[39m\u001b[39m1\u001b[39m:\n\u001b[1;32m    116\u001b[0m     length \u001b[39m=\u001b[39m \u001b[39mself\u001b[39m\u001b[39m.\u001b[39msize() \u001b[39m-\u001b[39m \u001b[39mself\u001b[39m\u001b[39m.\u001b[39mtell()\n",
            "File \u001b[0;32m/mnt/Datos/.enviroments/ubu20/AutoDLp38/lib/python3.8/site-packages/tensorflow/python/lib/io/file_io.py:76\u001b[0m, in \u001b[0;36mFileIO._preread_check\u001b[0;34m(self)\u001b[0m\n\u001b[1;32m     73\u001b[0m \u001b[39mif\u001b[39;00m \u001b[39mnot\u001b[39;00m \u001b[39mself\u001b[39m\u001b[39m.\u001b[39m_read_check_passed:\n\u001b[1;32m     74\u001b[0m   \u001b[39mraise\u001b[39;00m errors\u001b[39m.\u001b[39mPermissionDeniedError(\u001b[39mNone\u001b[39;00m, \u001b[39mNone\u001b[39;00m,\n\u001b[1;32m     75\u001b[0m                                      \u001b[39m\"\u001b[39m\u001b[39mFile isn\u001b[39m\u001b[39m'\u001b[39m\u001b[39mt open for reading\u001b[39m\u001b[39m\"\u001b[39m)\n\u001b[0;32m---> 76\u001b[0m \u001b[39mself\u001b[39m\u001b[39m.\u001b[39m_read_buf \u001b[39m=\u001b[39m _pywrap_file_io\u001b[39m.\u001b[39;49mBufferedInputStream(\n\u001b[1;32m     77\u001b[0m     compat\u001b[39m.\u001b[39;49mpath_to_str(\u001b[39mself\u001b[39;49m\u001b[39m.\u001b[39;49m__name), \u001b[39m1024\u001b[39;49m \u001b[39m*\u001b[39;49m \u001b[39m512\u001b[39;49m)\n",
            "\u001b[0;31mNotFoundError\u001b[0m: ../autokeras_search/experiment_20230705-162443/best_pipeline; No such file or directory"
          ]
        }
      ],
      "source": [
        "predicted_y = clf.predict(X_test)\n"
      ]
    },
    {
      "cell_type": "code",
      "execution_count": null,
      "metadata": {},
      "outputs": [],
      "source": [
        "predicted_y\n"
      ]
    },
    {
      "cell_type": "code",
      "execution_count": null,
      "metadata": {
        "colab": {
          "base_uri": "https://localhost:8080/"
        },
        "id": "b-5NYJSFJz5V",
        "outputId": "3f02f19b-7c28-41c1-82d4-7e5b275f63e9"
      },
      "outputs": [],
      "source": [
        "clf.evaluate(X_test, Y_test)\n"
      ]
    },
    {
      "cell_type": "code",
      "execution_count": null,
      "metadata": {
        "colab": {
          "base_uri": "https://localhost:8080/"
        },
        "id": "2z19aQ4BJ57B",
        "outputId": "9b84ddf8-1fd1-46aa-dc7a-f699f4a932dc"
      },
      "outputs": [],
      "source": [
        "model = clf.export_model()\n",
        "model.save(\"../models/model_autokeras\", save_format=\"tf\")\n"
      ]
    },
    {
      "cell_type": "code",
      "execution_count": null,
      "metadata": {
        "colab": {
          "base_uri": "https://localhost:8080/"
        },
        "id": "Oykx1AVaKMxE",
        "outputId": "b004a496-8501-4db8-835e-a63bff8413bf"
      },
      "outputs": [],
      "source": [
        "model.summary()\n"
      ]
    },
    {
      "cell_type": "code",
      "execution_count": null,
      "metadata": {
        "colab": {
          "base_uri": "https://localhost:8080/",
          "height": 1000
        },
        "id": "tt9GHroGL71c",
        "outputId": "5f8e4fe8-9206-4d34-f218-159ccec7c8fe"
      },
      "outputs": [],
      "source": [
        "tf.keras.utils.plot_model(model)\n"
      ]
    }
  ],
  "metadata": {
    "accelerator": "GPU",
    "colab": {
      "gpuType": "T4",
      "provenance": []
    },
    "kernelspec": {
      "display_name": "Python 3",
      "name": "python3"
    },
    "language_info": {
      "codemirror_mode": {
        "name": "ipython",
        "version": 3
      },
      "file_extension": ".py",
      "mimetype": "text/x-python",
      "name": "python",
      "nbconvert_exporter": "python",
      "pygments_lexer": "ipython3",
      "version": "3.8.10"
    }
  },
  "nbformat": 4,
  "nbformat_minor": 0
}
